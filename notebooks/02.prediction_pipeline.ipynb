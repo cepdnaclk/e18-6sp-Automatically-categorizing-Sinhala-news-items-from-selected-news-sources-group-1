{
 "cells": [
  {
   "cell_type": "code",
   "execution_count": 1,
   "id": "c15a18bf",
   "metadata": {},
   "outputs": [],
   "source": [
    "import numpy as np\n",
    "import pandas as pd\n",
    "import re\n",
    "import string\n",
    "import pickle"
   ]
  },
  {
   "cell_type": "code",
   "execution_count": 2,
   "id": "a9efab35",
   "metadata": {},
   "outputs": [],
   "source": [
    "def remove_punctuations(text):\n",
    "    for punctuation in string.punctuation:\n",
    "        text = text.replace(punctuation, '')\n",
    "    return text"
   ]
  },
  {
   "cell_type": "code",
   "execution_count": 3,
   "id": "6ae02ba5",
   "metadata": {},
   "outputs": [],
   "source": [
    "with open('../static/model/model.pickle', 'rb') as f:\n",
    "    model = pickle.load(f)"
   ]
  },
  {
   "cell_type": "code",
   "execution_count": 4,
   "id": "b403e1b6",
   "metadata": {},
   "outputs": [],
   "source": [
    "# with open('../static/model/new_model.pickle', 'rb') as f:\n",
    "#    new_model = pickle.load(f)"
   ]
  },
  {
   "cell_type": "code",
   "execution_count": 5,
   "id": "bdc046a7",
   "metadata": {},
   "outputs": [],
   "source": [
    "with open('../static/model/corpora/stopwords/sinhala', 'r', encoding='utf-8') as file:\n",
    "    sw = file.read().splitlines()"
   ]
  },
  {
   "cell_type": "code",
   "execution_count": 6,
   "id": "afb5742e",
   "metadata": {},
   "outputs": [],
   "source": [
    "vocab = pd.read_csv('../static/model/vocabulary.txt', header=None)\n",
    "tokens = vocab[0].tolist()"
   ]
  },
  {
   "cell_type": "code",
   "execution_count": 7,
   "id": "4f12ebfb",
   "metadata": {},
   "outputs": [],
   "source": [
    "from nltk.stem import PorterStemmer\n",
    "ps = PorterStemmer()"
   ]
  },
  {
   "cell_type": "code",
   "execution_count": 8,
   "id": "b8546e46",
   "metadata": {},
   "outputs": [],
   "source": [
    "def preprocessing(text):\n",
    "    data = pd.DataFrame([text], columns=['Title'])\n",
    "    data[\"Title\"] = data[\"Title\"].apply(lambda x: \" \".join(x.lower() for x in x.split()))\n",
    "    data[\"Title\"] = data['Title'].apply(lambda x: \" \".join(re.sub(r'^https?:\\/\\/.*[\\r\\n]*', '', x, flags=re.MULTILINE) for x in x.split()))\n",
    "    data[\"Title\"] = data[\"Title\"].apply(remove_punctuations)\n",
    "    data[\"Title\"] = data['Title'].str.replace('\\d+', '', regex=True)\n",
    "    data[\"Title\"] = data[\"Title\"].apply(lambda x: \" \".join(x for x in x.split() if x not in sw))\n",
    "    data[\"Title\"] = data[\"Title\"].apply(lambda x: \" \".join(ps.stem(x) for x in x.split()))\n",
    "    return data[\"Title\"]"
   ]
  },
  {
   "cell_type": "code",
   "execution_count": 9,
   "id": "28882379",
   "metadata": {},
   "outputs": [],
   "source": [
    "def vectorizer(ds, vocabulary):\n",
    "    vectorized_lst = []\n",
    "    \n",
    "    for sentence in ds:\n",
    "        sentence_lst = np.zeros(len(vocabulary))\n",
    "        \n",
    "        for i in range(len(vocabulary)):\n",
    "            if vocabulary[i] in sentence.split():\n",
    "                sentence_lst[i] = 1\n",
    "                \n",
    "        vectorized_lst.append(sentence_lst)\n",
    "        \n",
    "    vectorized_lst_new = np.asarray(vectorized_lst, dtype=np.float32)\n",
    "    \n",
    "    return vectorized_lst_new"
   ]
  },
  {
   "cell_type": "code",
   "execution_count": 10,
   "id": "b620f75e",
   "metadata": {},
   "outputs": [],
   "source": [
    "def get_prediction(vectorized_text):\n",
    "    prediction = model.predict(vectorized_text)\n",
    "    # prediction = new_model.predict(vectorized_text)\n",
    "    if prediction == 0:\n",
    "        return 'International'\n",
    "    elif prediction == 1:\n",
    "        return 'Sport'\n",
    "    elif prediction == 2:\n",
    "        return 'Business'"
   ]
  },
  {
   "cell_type": "code",
   "execution_count": 11,
   "id": "9e9af6b9",
   "metadata": {},
   "outputs": [
    {
     "data": {
      "text/plain": [
       "'Sport'"
      ]
     },
     "execution_count": 11,
     "metadata": {},
     "output_type": "execute_result"
    }
   ],
   "source": [
    "# headline1 = \"ශ්‍රී ලංකා අයර්ලන්ත ක්‍රිකට් තරගය අද\"\n",
    "headline1 = \"ආසියානු ක්‍රිකට් කුසලානයේ තරග 9ක් ලංකාවේදී\"\n",
    "\n",
    "preprocessed_txt = preprocessing(headline1)\n",
    "vectorized_txt = vectorizer(preprocessed_txt, tokens)\n",
    "prediction = get_prediction(vectorized_txt)\n",
    "prediction"
   ]
  },
  {
   "cell_type": "code",
   "execution_count": 12,
   "id": "ec1dc35e",
   "metadata": {},
   "outputs": [
    {
     "data": {
      "text/plain": [
       "'Sport'"
      ]
     },
     "execution_count": 12,
     "metadata": {},
     "output_type": "execute_result"
    }
   ],
   "source": [
    "# headline2 = \"පාපන්දු සහ රග්බි තහනමෙන් මුදාගන්න ඉදිරි සති දෙකේ සාකච්ඡා\"\n",
    "headline2 = \"ජාතික වොලිබෝල් කාන්තා කණ්ඩායම නේපාලයට\"\n",
    "preprocessed_txt = preprocessing(headline2)\n",
    "vectorized_txt = vectorizer(preprocessed_txt, tokens)\n",
    "prediction = get_prediction(vectorized_txt)\n",
    "prediction"
   ]
  },
  {
   "cell_type": "code",
   "execution_count": 13,
   "id": "dfdc9b51",
   "metadata": {},
   "outputs": [
    {
     "data": {
      "text/plain": [
       "'International'"
      ]
     },
     "execution_count": 13,
     "metadata": {},
     "output_type": "execute_result"
    }
   ],
   "source": [
    "# headline3 = \"මොස්කව් ඇල්ලීම නවතී - වැග්නර් හමුදාව පසුබසී\"\n",
    "headline3 = \"ගැටුම් මැද පුටින්ගෙන් ප්‍රකාශයක්\"\n",
    "preprocessed_txt = preprocessing(headline3)\n",
    "vectorized_txt = vectorizer(preprocessed_txt, tokens)\n",
    "prediction = get_prediction(vectorized_txt)\n",
    "prediction"
   ]
  },
  {
   "cell_type": "code",
   "execution_count": 14,
   "id": "9183c53d",
   "metadata": {},
   "outputs": [
    {
     "data": {
      "text/plain": [
       "'International'"
      ]
     },
     "execution_count": 14,
     "metadata": {},
     "output_type": "execute_result"
    }
   ],
   "source": [
    "# headline4 = \"ලොවක් කතා කරන ටයිටෑන් සබ්මැරීනයේ ආරක්ෂාව ගැන ප්‍රශ්නයක් \"\n",
    "headline4 = \"රුසියානු ඇන්ටනෝව් යානාව පැහැරගත් කැනඩාව එය යුක්රේනයට භාර දෙයි\"\n",
    "preprocessed_txt = preprocessing(headline4)\n",
    "vectorized_txt = vectorizer(preprocessed_txt, tokens)\n",
    "prediction = get_prediction(vectorized_txt)\n",
    "prediction"
   ]
  },
  {
   "cell_type": "code",
   "execution_count": 15,
   "id": "1504bf8f",
   "metadata": {},
   "outputs": [
    {
     "data": {
      "text/plain": [
       "'International'"
      ]
     },
     "execution_count": 15,
     "metadata": {},
     "output_type": "execute_result"
    }
   ],
   "source": [
    "headline5 = \"මහජන බැංකුවට රුපියල් බිලියන 4.6ක ඒකාබද්ධ බදු පසු ලාභයක් \"\n",
    "# headline5 = \"මහජන බැංකුවේ ‘වාසි කෝටියයි’ සුපිරි ජයග්‍රාහකයාට කෝටියක් පිරිනැමේ\"\n",
    "preprocessed_txt = preprocessing(headline4)\n",
    "vectorized_txt = vectorizer(preprocessed_txt, tokens)\n",
    "prediction = get_prediction(vectorized_txt)\n",
    "prediction"
   ]
  },
  {
   "cell_type": "code",
   "execution_count": 16,
   "id": "cc3dd09c",
   "metadata": {},
   "outputs": [
    {
     "data": {
      "text/plain": [
       "'International'"
      ]
     },
     "execution_count": 16,
     "metadata": {},
     "output_type": "execute_result"
    }
   ],
   "source": [
    "headline6 = \"අපනයන-නැඹුරු නිෂ්පාදන ආර්ථිකය කරා යන කර්මාන්ත 2023 ජාතික කර්මාන්ත ප්‍රදර්ශනය\"\n",
    "# headline6 = \"SLT සමූහයේ ප්‍රථම කාර්තුවේ ස්ථාවර ආදායමක් වාර්තා කරයි\"\n",
    "preprocessed_txt = preprocessing(headline4)\n",
    "vectorized_txt = vectorizer(preprocessed_txt, tokens)\n",
    "prediction = get_prediction(vectorized_txt)\n",
    "prediction"
   ]
  }
 ],
 "metadata": {
  "kernelspec": {
   "display_name": "Python 3 (ipykernel)",
   "language": "python",
   "name": "python3"
  },
  "language_info": {
   "codemirror_mode": {
    "name": "ipython",
    "version": 3
   },
   "file_extension": ".py",
   "mimetype": "text/x-python",
   "name": "python",
   "nbconvert_exporter": "python",
   "pygments_lexer": "ipython3",
   "version": "3.10.5"
  }
 },
 "nbformat": 4,
 "nbformat_minor": 5
}
